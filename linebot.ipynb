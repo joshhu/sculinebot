{
 "cells": [
  {
   "cell_type": "code",
   "execution_count": null,
   "metadata": {},
   "outputs": [],
   "source": [
    "# from google.colab import userdata\n",
    "\n",
    "# ngrok_key = userdata.get('ngrok_key')\n",
    "# line_access_token = userdata.get('line_access_token')\n",
    "# line_secret = userdata.get('line_secret')\n",
    "# port = 5000"
   ]
  },
  {
   "cell_type": "code",
   "execution_count": 1,
   "metadata": {},
   "outputs": [],
   "source": [
    "import os\n",
    "line_access_token = os.environ.get('LINE_ACCESS_TOKEN')\n",
    "line_secret = os.environ.get('LINE_SECRET')\n",
    "port = 5000"
   ]
  },
  {
   "cell_type": "code",
   "execution_count": 2,
   "metadata": {},
   "outputs": [
    {
     "name": "stdout",
     "output_type": "stream",
     "text": [
      " * Serving Flask app '__main__'\n",
      " * Debug mode: off\n"
     ]
    },
    {
     "name": "stderr",
     "output_type": "stream",
     "text": [
      "\u001b[31m\u001b[1mWARNING: This is a development server. Do not use it in a production deployment. Use a production WSGI server instead.\u001b[0m\n",
      " * Running on http://127.0.0.1:5000\n",
      "\u001b[33mPress CTRL+C to quit\u001b[0m\n",
      "127.0.0.1 - - [08/May/2024 12:42:18] \"POST / HTTP/1.1\" 200 -\n"
     ]
    },
    {
     "name": "stdout",
     "output_type": "stream",
     "text": [
      "BODY:  {\"destination\":\"U08e238379070624ecd3a6ba91e449e19\",\"events\":[]}\n"
     ]
    },
    {
     "name": "stderr",
     "output_type": "stream",
     "text": [
      "127.0.0.1 - - [08/May/2024 13:52:07] \"POST / HTTP/1.1\" 200 -\n"
     ]
    },
    {
     "name": "stdout",
     "output_type": "stream",
     "text": [
      "BODY:  {\"destination\":\"U08e238379070624ecd3a6ba91e449e19\",\"events\":[{\"type\":\"message\",\"message\":{\"type\":\"text\",\"id\":\"507250775421091973\",\"quoteToken\":\"ifDElG-vTZ_0tC_Zb2FL1PMcUpnOaUnxi88W5KLU0E2Fs6rv1VAcA9fFdDy1-k1d0DTf7IRLqPVul-PlK-4sfzALoaAbgoMfXPcUByR7zMBeiX96gK-8_GJw_yAm_d0Q9syE02CR-XWW9bjCDGfJ0w\",\"text\":\"四\"},\"webhookEventId\":\"01HXC7KJ50SJMGQAX0BN79PBJ5\",\"deliveryContext\":{\"isRedelivery\":false},\"timestamp\":1715176326821,\"source\":{\"type\":\"user\",\"userId\":\"Uc9d6d3d031222ca0e86cebfd151d295e\"},\"replyToken\":\"8f01ef5a1d3f4995a352a10b3bbf8884\",\"mode\":\"active\"}]}\n"
     ]
    }
   ],
   "source": [
    "from flask import Flask, request, abort\n",
    "\n",
    "from linebot.v3 import (\n",
    "    WebhookHandler\n",
    ")\n",
    "from linebot.v3.exceptions import (\n",
    "    InvalidSignatureError\n",
    ")\n",
    "from linebot.v3.messaging import (\n",
    "    Configuration,\n",
    "    ApiClient,\n",
    "    MessagingApi,\n",
    "    ReplyMessageRequest,\n",
    "    TextMessage,\n",
    "    StickerMessage,\n",
    "    LocationMessage\n",
    ")\n",
    "from linebot.v3.webhooks import (\n",
    "    MessageEvent,\n",
    "    TextMessageContent,\n",
    "    StickerMessageContent,\n",
    "    LocationMessageContent\n",
    ")\n",
    "\n",
    "app = Flask(__name__)\n",
    "\n",
    "configuration = Configuration(access_token=line_access_token)\n",
    "handler = WebhookHandler(line_secret)\n",
    "\n",
    "\n",
    "@app.route(\"/\", methods=['POST'])\n",
    "def callback():\n",
    "    # get X-Line-Signature header value\n",
    "    signature = request.headers['X-Line-Signature']\n",
    "\n",
    "    # get request body as text\n",
    "    body = request.get_data(as_text=True)\n",
    "    print(\"BODY: \", body)\n",
    "    app.logger.info(\"Request body: \" + body)\n",
    "\n",
    "    # handle webhook body\n",
    "    try:\n",
    "        handler.handle(body, signature)\n",
    "    except InvalidSignatureError:\n",
    "        app.logger.info(\"Invalid signature. Please check your channel access token/channel secret.\")\n",
    "        abort(400)\n",
    "\n",
    "    return 'OK'\n",
    "\n",
    "\n",
    "@handler.add(MessageEvent, message=TextMessageContent)\n",
    "def handle_message(event):\n",
    "    with ApiClient(configuration) as api_client:\n",
    "        line_bot_api = MessagingApi(api_client)\n",
    "        line_bot_api.reply_message_with_http_info(\n",
    "            ReplyMessageRequest(\n",
    "                reply_token=event.reply_token,\n",
    "                messages=[TextMessage(text=event.message.text),\n",
    "                     TextMessage(text=event.message.text)]\n",
    "            )\n",
    "        )\n",
    "\n",
    "@handler.add(MessageEvent, message=StickerMessageContent)\n",
    "def handle_sticker_message(event):\n",
    "    with ApiClient(configuration) as api_client:\n",
    "        line_bot_api = MessagingApi(api_client)\n",
    "        line_bot_api.reply_message(\n",
    "            ReplyMessageRequest(\n",
    "                reply_token=event.reply_token,\n",
    "                messages=[StickerMessage(\n",
    "                    package_id=event.message.package_id,\n",
    "                    sticker_id=event.message.sticker_id)\n",
    "                ]\n",
    "            )\n",
    "        )\n",
    "\n",
    "@handler.add(MessageEvent, message=LocationMessageContent)\n",
    "def handle_location_message(event):\n",
    "    with ApiClient(configuration) as api_client:\n",
    "        line_bot_api = MessagingApi(api_client)\n",
    "        line_bot_api.reply_message(\n",
    "            ReplyMessageRequest(\n",
    "                reply_token=event.reply_token,\n",
    "                messages=[LocationMessage(\n",
    "                    title='定位訊息',\n",
    "                    address=event.message.address,\n",
    "                    latitude=event.message.latitude,\n",
    "                    longitude=event.message.longitude\n",
    "                )]\n",
    "            )\n",
    "        )\n",
    "\n",
    "if __name__ == \"__main__\":\n",
    "    app.run(port=port)"
   ]
  }
 ],
 "metadata": {
  "kernelspec": {
   "display_name": "linebot",
   "language": "python",
   "name": "python3"
  },
  "language_info": {
   "codemirror_mode": {
    "name": "ipython",
    "version": 3
   },
   "file_extension": ".py",
   "mimetype": "text/x-python",
   "name": "python",
   "nbconvert_exporter": "python",
   "pygments_lexer": "ipython3",
   "version": "3.12.3"
  }
 },
 "nbformat": 4,
 "nbformat_minor": 2
}

{
 "cells": [
  {
   "cell_type": "markdown",
   "metadata": {},
   "source": [
    "### 啟動`ngrok`\n",
    "可以輸入`sudo kill -9 \"$(pgrep ngrok)\"`來關閉`ngrok`，然後再重新啟動`ngrok`。"
   ]
  },
  {
   "cell_type": "code",
   "execution_count": 6,
   "metadata": {},
   "outputs": [],
   "source": [
    "!sudo kill -9 \"$(pgrep ngrok)\""
   ]
  },
  {
   "cell_type": "code",
   "execution_count": 7,
   "metadata": {},
   "outputs": [],
   "source": [
    "import os\n",
    "from pyngrok import ngrok"
   ]
  },
  {
   "cell_type": "code",
   "execution_count": 8,
   "metadata": {},
   "outputs": [],
   "source": [
    "ngrok_key = os.environ.get('NGROK_KEY')\n",
    "port = 5000"
   ]
  },
  {
   "cell_type": "code",
   "execution_count": 9,
   "metadata": {},
   "outputs": [
    {
     "name": "stdout",
     "output_type": "stream",
     "text": [
      "https://36ec-36-231-77-250.ngrok-free.app\n"
     ]
    },
    {
     "name": "stderr",
     "output_type": "stream",
     "text": [
      "t=2024-05-05T13:43:08+0800 lvl=warn msg=\"failed to open private leg\" id=008fee742f01 privaddr=localhost:5000 err=\"dial tcp 127.0.0.1:5000: connect: connection refused\"\n",
      "t=2024-05-05T13:43:09+0800 lvl=warn msg=\"failed to open private leg\" id=752ad9fa4d55 privaddr=localhost:5000 err=\"dial tcp 127.0.0.1:5000: connect: connection refused\"\n",
      "t=2024-05-05T13:44:49+0800 lvl=warn msg=\"failed to open private leg\" id=3078dcfb6811 privaddr=localhost:5000 err=\"dial tcp 127.0.0.1:5000: connect: connection refused\"\n",
      "t=2024-05-05T13:44:50+0800 lvl=warn msg=\"failed to open private leg\" id=61c0bddd4ff6 privaddr=localhost:5000 err=\"dial tcp 127.0.0.1:5000: connect: connection refused\"\n",
      "t=2024-05-05T13:44:59+0800 lvl=warn msg=\"failed to open private leg\" id=fcaf04297ed6 privaddr=localhost:5000 err=\"dial tcp 127.0.0.1:5000: connect: connection refused\"\n",
      "t=2024-05-05T13:45:00+0800 lvl=warn msg=\"failed to open private leg\" id=1513ebc70dc5 privaddr=localhost:5000 err=\"dial tcp 127.0.0.1:5000: connect: connection refused\"\n",
      "t=2024-05-05T13:45:09+0800 lvl=warn msg=\"failed to open private leg\" id=ebd41a46c90f privaddr=localhost:5000 err=\"dial tcp 127.0.0.1:5000: connect: connection refused\"\n",
      "t=2024-05-05T13:45:10+0800 lvl=warn msg=\"failed to open private leg\" id=5f559e568701 privaddr=localhost:5000 err=\"dial tcp 127.0.0.1:5000: connect: connection refused\"\n",
      "t=2024-05-05T13:50:21+0800 lvl=warn msg=\"failed to open private leg\" id=a61d8f39c09c privaddr=localhost:5000 err=\"dial tcp 127.0.0.1:5000: connect: connection refused\"\n"
     ]
    }
   ],
   "source": [
    "ngrok.set_auth_token(ngrok_key)\n",
    "tunnel = ngrok.connect(5000, name=\"linebot_tunnel\")\n",
    "print(tunnel.public_url)"
   ]
  },
  {
   "cell_type": "code",
   "execution_count": 5,
   "metadata": {},
   "outputs": [],
   "source": [
    "ngrok.disconnect(tunnel.public_url)"
   ]
  }
 ],
 "metadata": {
  "kernelspec": {
   "display_name": "linebot",
   "language": "python",
   "name": "python3"
  },
  "language_info": {
   "codemirror_mode": {
    "name": "ipython",
    "version": 3
   },
   "file_extension": ".py",
   "mimetype": "text/x-python",
   "name": "python",
   "nbconvert_exporter": "python",
   "pygments_lexer": "ipython3",
   "version": "3.12.3"
  }
 },
 "nbformat": 4,
 "nbformat_minor": 2
}

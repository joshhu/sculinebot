{
 "cells": [
  {
   "cell_type": "markdown",
   "metadata": {},
   "source": [
    "### 啟動`ngrok`\n",
    "可以輸入`sudo kill -9 \"$(pgrep ngrok)\"`來關閉`ngrok`，然後再重新啟動`ngrok`。"
   ]
  },
  {
   "cell_type": "code",
   "execution_count": 1,
   "metadata": {},
   "outputs": [
    {
     "name": "stdout",
     "output_type": "stream",
     "text": [
      "kill: failed to parse argument: '': No such file or directory\n"
     ]
    }
   ],
   "source": [
    "!sudo kill -9 \"$(pgrep ngrok)\""
   ]
  },
  {
   "cell_type": "code",
   "execution_count": 2,
   "metadata": {},
   "outputs": [],
   "source": [
    "import os\n",
    "from pyngrok import ngrok"
   ]
  },
  {
   "cell_type": "code",
   "execution_count": 3,
   "metadata": {},
   "outputs": [],
   "source": [
    "ngrok_key = os.environ.get('NGROK_KEY')\n",
    "port = 5000"
   ]
  },
  {
   "cell_type": "code",
   "execution_count": 4,
   "metadata": {},
   "outputs": [
    {
     "name": "stdout",
     "output_type": "stream",
     "text": [
      "https://02dd-36-231-77-250.ngrok-free.app                                                           \n"
     ]
    }
   ],
   "source": [
    "ngrok.set_auth_token(ngrok_key)\n",
    "tunnel = ngrok.connect(5000, name=\"linebot_tunnel\")\n",
    "print(tunnel.public_url)"
   ]
  },
  {
   "cell_type": "code",
   "execution_count": null,
   "metadata": {},
   "outputs": [],
   "source": [
    "ngrok.disconnect(tunnel.public_url)"
   ]
  }
 ],
 "metadata": {
  "kernelspec": {
   "display_name": "linebot",
   "language": "python",
   "name": "python3"
  },
  "language_info": {
   "codemirror_mode": {
    "name": "ipython",
    "version": 3
   },
   "file_extension": ".py",
   "mimetype": "text/x-python",
   "name": "python",
   "nbconvert_exporter": "python",
   "pygments_lexer": "ipython3",
   "version": "3.12.3"
  }
 },
 "nbformat": 4,
 "nbformat_minor": 2
}

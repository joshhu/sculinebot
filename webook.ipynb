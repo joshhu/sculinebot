{
 "cells": [
  {
   "cell_type": "code",
   "execution_count": null,
   "metadata": {},
   "outputs": [],
   "source": [
    "from flask import Flask, request, jsonify\n",
    "\n",
    "app = Flask(__name__)\n",
    "\n",
    "@app.route('/webhook', methods=['POST'])\n",
    "def webhook():\n",
    "    data = request.json  # 取得 POST 請求中的 JSON 資料\n",
    "\n",
    "    # 這裡可以根據接收到的 JSON 資料進行相應的處理\n",
    "    print(\"Received webhook data:\", data)\n",
    "\n",
    "    # 這裡是回應給 Webhook 發送者的訊息\n",
    "    response = {\"message\": \"Webhook received successfully\"}\n",
    "    return jsonify(response)\n",
    "\n",
    "if __name__ == '__main__':\n",
    "    app.run(port=6000)\n",
    "    \n"
   ]
  },
  {
   "cell_type": "code",
   "execution_count": null,
   "metadata": {},
   "outputs": [],
   "source": [
    "# 測試指令\n",
    "!curl -X POST -H \"Content-Type: application/json\" -d '{\"key\": \"value\"}' http://127.0.0.1:6000/webhook\n"
   ]
  }
 ],
 "metadata": {
  "kernelspec": {
   "display_name": "linebot",
   "language": "python",
   "name": "python3"
  },
  "language_info": {
   "codemirror_mode": {
    "name": "ipython",
    "version": 3
   },
   "file_extension": ".py",
   "mimetype": "text/x-python",
   "name": "python",
   "nbconvert_exporter": "python",
   "pygments_lexer": "ipython3",
   "version": "3.12.3"
  }
 },
 "nbformat": 4,
 "nbformat_minor": 2
}
